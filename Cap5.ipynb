{
 "cells": [
  {
   "cell_type": "code",
   "execution_count": 6,
   "metadata": {},
   "outputs": [],
   "source": [
    "import arch.data.sp500\n",
    "from arch import arch_model\n",
    "import matplotlib.pyplot as plt\n",
    "import pandas as pd\n",
    "import numpy as np"
   ]
  },
  {
   "cell_type": "code",
   "execution_count": 50,
   "metadata": {},
   "outputs": [
    {
     "data": {
      "text/html": [
       "<div>\n",
       "<style scoped>\n",
       "    .dataframe tbody tr th:only-of-type {\n",
       "        vertical-align: middle;\n",
       "    }\n",
       "\n",
       "    .dataframe tbody tr th {\n",
       "        vertical-align: top;\n",
       "    }\n",
       "\n",
       "    .dataframe thead th {\n",
       "        text-align: right;\n",
       "    }\n",
       "</style>\n",
       "<table border=\"1\" class=\"dataframe\">\n",
       "  <thead>\n",
       "    <tr style=\"text-align: right;\">\n",
       "      <th></th>\n",
       "      <th>Adj Close</th>\n",
       "    </tr>\n",
       "    <tr>\n",
       "      <th>Date</th>\n",
       "      <th></th>\n",
       "    </tr>\n",
       "  </thead>\n",
       "  <tbody>\n",
       "    <tr>\n",
       "      <th>2018-12-24</th>\n",
       "      <td>-2.748657</td>\n",
       "    </tr>\n",
       "    <tr>\n",
       "      <th>2018-12-26</th>\n",
       "      <td>4.840318</td>\n",
       "    </tr>\n",
       "    <tr>\n",
       "      <th>2018-12-27</th>\n",
       "      <td>0.852623</td>\n",
       "    </tr>\n",
       "    <tr>\n",
       "      <th>2018-12-28</th>\n",
       "      <td>-0.124235</td>\n",
       "    </tr>\n",
       "    <tr>\n",
       "      <th>2018-12-31</th>\n",
       "      <td>0.845663</td>\n",
       "    </tr>\n",
       "  </tbody>\n",
       "</table>\n",
       "</div>"
      ],
      "text/plain": [
       "            Adj Close\n",
       "Date                 \n",
       "2018-12-24  -2.748657\n",
       "2018-12-26   4.840318\n",
       "2018-12-27   0.852623\n",
       "2018-12-28  -0.124235\n",
       "2018-12-31   0.845663"
      ]
     },
     "execution_count": 50,
     "metadata": {},
     "output_type": "execute_result"
    }
   ],
   "source": [
    "sp = pd.DataFrame(arch.data.sp500.load()[\"Adj Close\"])\n",
    "sp = 100 * np.log(sp).diff().dropna()\n",
    "sp.tail()"
   ]
  },
  {
   "cell_type": "code",
   "execution_count": 54,
   "metadata": {},
   "outputs": [
    {
     "data": {
      "text/plain": [
       "<AxesSubplot:xlabel='Date'>"
      ]
     },
     "execution_count": 54,
     "metadata": {},
     "output_type": "execute_result"
    },
    {
     "data": {
      "image/png": "[encoded data removed]",
      "text/plain": [
       "<Figure size 432x288 with 1 Axes>"
      ]
     },
     "metadata": {
      "needs_background": "light"
     },
     "output_type": "display_data"
    }
   ],
   "source": [
    "sp.plot()"
   ]
  },
  {
   "cell_type": "code",
   "execution_count": 48,
   "metadata": {},
   "outputs": [
    {
     "data": {
      "text/plain": [
       "(array([  2.,   1.,   0.,   0.,   0.,   0.,   0.,   1.,   0.,   0.,   0.,\n",
       "          0.,   2.,   0.,   0.,   2.,   1.,   1.,   0.,   2.,   1.,   3.,\n",
       "          4.,   1.,   4.,   4.,   3.,   5.,   3.,  13.,  12.,  17.,  16.,\n",
       "         21.,  38.,  40.,  49.,  68.,  89., 110., 118., 159., 214., 275.,\n",
       "        364., 510., 605., 518., 427., 338., 227., 203., 137., 104.,  78.,\n",
       "         49.,  32.,  42.,  26.,   7.,  18.,   5.,  12.,   7.,   5.,  12.,\n",
       "          2.,   5.,   1.,   4.,   3.,   0.,   2.,   1.,   0.,   0.,   2.,\n",
       "          1.,   0.,   2.,   0.,   0.,   0.,   0.,   0.,   0.,   0.,   0.,\n",
       "          0.,   0.,   0.,   0.,   0.,   0.,   0.,   0.,   1.,   0.,   0.,\n",
       "          1.]),\n",
       " array([-9.4695125 , -9.2652454 , -9.06097831, -8.85671122, -8.65244413,\n",
       "        -8.44817703, -8.24390994, -8.03964285, -7.83537575, -7.63110866,\n",
       "        -7.42684157, -7.22257448, -7.01830738, -6.81404029, -6.6097732 ,\n",
       "        -6.40550611, -6.20123901, -5.99697192, -5.79270483, -5.58843774,\n",
       "        -5.38417064, -5.17990355, -4.97563646, -4.77136937, -4.56710227,\n",
       "        -4.36283518, -4.15856809, -3.95430099, -3.7500339 , -3.54576681,\n",
       "        -3.34149972, -3.13723262, -2.93296553, -2.72869844, -2.52443135,\n",
       "        -2.32016425, -2.11589716, -1.91163007, -1.70736298, -1.50309588,\n",
       "        -1.29882879, -1.0945617 , -0.89029461, -0.68602751, -0.48176042,\n",
       "        -0.27749333, -0.07322623,  0.13104086,  0.33530795,  0.53957504,\n",
       "         0.74384214,  0.94810923,  1.15237632,  1.35664341,  1.56091051,\n",
       "         1.7651776 ,  1.96944469,  2.17371178,  2.37797888,  2.58224597,\n",
       "         2.78651306,  2.99078015,  3.19504725,  3.39931434,  3.60358143,\n",
       "         3.80784853,  4.01211562,  4.21638271,  4.4206498 ,  4.6249169 ,\n",
       "         4.82918399,  5.03345108,  5.23771817,  5.44198527,  5.64625236,\n",
       "         5.85051945,  6.05478654,  6.25905364,  6.46332073,  6.66758782,\n",
       "         6.87185492,  7.07612201,  7.2803891 ,  7.48465619,  7.68892329,\n",
       "         7.89319038,  8.09745747,  8.30172456,  8.50599166,  8.71025875,\n",
       "         8.91452584,  9.11879293,  9.32306003,  9.52732712,  9.73159421,\n",
       "         9.9358613 , 10.1401284 , 10.34439549, 10.54866258, 10.75292968,\n",
       "        10.95719677]),\n",
       " <BarContainer object of 100 artists>)"
      ]
     },
     "execution_count": 48,
     "metadata": {},
     "output_type": "execute_result"
    },
    {
     "data": {
      "image/png": "[encoded data removed]",
      "text/plain": [
       "<Figure size 432x288 with 1 Axes>"
      ]
     },
     "metadata": {
      "needs_background": "light"
     },
     "output_type": "display_data"
    }
   ],
   "source": [
    "plt.hist(sp[\"Adj Close\"], bins = 100)"
   ]
  },
  {
   "cell_type": "code",
   "execution_count": 53,
   "metadata": {},
   "outputs": [
    {
     "name": "stdout",
     "output_type": "stream",
     "text": [
      "Iteration:      5,   Func. Count:     44,   Neg. LLF: 6880.67250591017\n",
      "Iteration:     10,   Func. Count:     84,   Neg. LLF: 6748.273280887048\n",
      "Optimization terminated successfully    (Exit mode 0)\n",
      "            Current function value: 6748.270884494009\n",
      "            Iterations: 14\n",
      "            Function evaluations: 111\n",
      "            Gradient evaluations: 14\n"
     ]
    },
    {
     "data": {
      "text/html": [
       "<div>\n",
       "<style scoped>\n",
       "    .dataframe tbody tr th:only-of-type {\n",
       "        vertical-align: middle;\n",
       "    }\n",
       "\n",
       "    .dataframe tbody tr th {\n",
       "        vertical-align: top;\n",
       "    }\n",
       "\n",
       "    .dataframe thead th {\n",
       "        text-align: right;\n",
       "    }\n",
       "</style>\n",
       "<table border=\"1\" class=\"dataframe\">\n",
       "  <thead>\n",
       "    <tr style=\"text-align: right;\">\n",
       "      <th></th>\n",
       "      <th>h.1</th>\n",
       "    </tr>\n",
       "    <tr>\n",
       "      <th>Date</th>\n",
       "      <th></th>\n",
       "    </tr>\n",
       "  </thead>\n",
       "  <tbody>\n",
       "    <tr>\n",
       "      <th>1999-01-05</th>\n",
       "      <td>NaN</td>\n",
       "    </tr>\n",
       "    <tr>\n",
       "      <th>1999-01-06</th>\n",
       "      <td>NaN</td>\n",
       "    </tr>\n",
       "    <tr>\n",
       "      <th>1999-01-07</th>\n",
       "      <td>NaN</td>\n",
       "    </tr>\n",
       "    <tr>\n",
       "      <th>1999-01-08</th>\n",
       "      <td>NaN</td>\n",
       "    </tr>\n",
       "    <tr>\n",
       "      <th>1999-01-11</th>\n",
       "      <td>NaN</td>\n",
       "    </tr>\n",
       "    <tr>\n",
       "      <th>...</th>\n",
       "      <td>...</td>\n",
       "    </tr>\n",
       "    <tr>\n",
       "      <th>2018-12-24</th>\n",
       "      <td>2.212301</td>\n",
       "    </tr>\n",
       "    <tr>\n",
       "      <th>2018-12-26</th>\n",
       "      <td>2.100387</td>\n",
       "    </tr>\n",
       "    <tr>\n",
       "      <th>2018-12-27</th>\n",
       "      <td>1.994461</td>\n",
       "    </tr>\n",
       "    <tr>\n",
       "      <th>2018-12-28</th>\n",
       "      <td>1.895458</td>\n",
       "    </tr>\n",
       "    <tr>\n",
       "      <th>2018-12-31</th>\n",
       "      <td>1.800545</td>\n",
       "    </tr>\n",
       "  </tbody>\n",
       "</table>\n",
       "<p>5030 rows × 1 columns</p>\n",
       "</div>"
      ],
      "text/plain": [
       "                 h.1\n",
       "Date                \n",
       "1999-01-05       NaN\n",
       "1999-01-06       NaN\n",
       "1999-01-07       NaN\n",
       "1999-01-08       NaN\n",
       "1999-01-11       NaN\n",
       "...              ...\n",
       "2018-12-24  2.212301\n",
       "2018-12-26  2.100387\n",
       "2018-12-27  1.994461\n",
       "2018-12-28  1.895458\n",
       "2018-12-31  1.800545\n",
       "\n",
       "[5030 rows x 1 columns]"
      ]
     },
     "execution_count": 53,
     "metadata": {},
     "output_type": "execute_result"
    }
   ],
   "source": [
    "mo = arch_model(sp, p = 1, o = 1,q= 1, dist=\"StudentsT\").fit(update_freq=5)\n",
    "np.sqrt(mo.forecast(horizon = 1 ,start= 5000,reindex= True).variance)"
   ]
  }
 ],
 "metadata": {
  "interpreter": {
   "hash": "6868c2c58928b2df756f83b0ee3c61f987925f733633c14067b8c2ee5ae10991"
  },
  "kernelspec": {
   "display_name": "Python 3.7.6 64-bit ('myvenv': venv)",
   "language": "python",
   "name": "python3"
  },
  "language_info": {
   "codemirror_mode": {
    "name": "ipython",
    "version": 3
   },
   "file_extension": ".py",
   "mimetype": "text/x-python",
   "name": "python",
   "nbconvert_exporter": "python",
   "pygments_lexer": "ipython3",
   "version": "3.7.6"
  },
  "orig_nbformat": 4
 },
 "nbformat": 4,
 "nbformat_minor": 2
}
