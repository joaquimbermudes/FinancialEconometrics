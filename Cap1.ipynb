{
 "cells": [
  {
   "cell_type": "markdown",
   "metadata": {},
   "source": [
    "# ***1. Retuns***"
   ]
  },
  {
   "cell_type": "code",
   "execution_count": 1,
   "metadata": {},
   "outputs": [],
   "source": [
    "import numpy as np\n",
    "import pandas as pd\n",
    "import yfinance\n",
    "import matplotlib.pyplot as plt\n",
    "from statsmodels.stats.stattools import jarque_bera"
   ]
  },
  {
   "cell_type": "code",
   "execution_count": 139,
   "metadata": {},
   "outputs": [
    {
     "name": "stdout",
     "output_type": "stream",
     "text": [
      "[*********************100%***********************]  1 of 1 completed\n"
     ]
    },
    {
     "data": {
      "text/plain": [
       "[<matplotlib.lines.Line2D at 0x1189a113308>]"
      ]
     },
     "execution_count": 139,
     "metadata": {},
     "output_type": "execute_result"
    },
    {
     "data": {
      "image/png": "[encoded data removed]",
      "text/plain": [
       "<Figure size 432x288 with 1 Axes>"
      ]
     },
     "metadata": {
      "needs_background": "light"
     },
     "output_type": "display_data"
    }
   ],
   "source": [
    "btc = yfinance.download(tickers= \"BTC-USD\", period= \"max\")\n",
    "btc = pd.DataFrame(btc[\"Close\"])\n",
    "plt.plot(btc)"
   ]
  },
  {
   "cell_type": "markdown",
   "metadata": {},
   "source": [
    "### Percentage Return\n",
    "\n",
    "For calculate percentage return $R_t$ get the prices $P_t$ and $P_{t+1}$ for late apply one of these fomulates:\n",
    "\n",
    "$$\n",
    "R_t = \\frac{P_{t+1} - P_{t}}{P_{t}} = \\frac{P_{t+1}}{P_t} - 1\n",
    "$$"
   ]
  },
  {
   "cell_type": "code",
   "execution_count": 11,
   "metadata": {},
   "outputs": [
    {
     "data": {
      "text/html": [
       "<div>\n",
       "<style scoped>\n",
       "    .dataframe tbody tr th:only-of-type {\n",
       "        vertical-align: middle;\n",
       "    }\n",
       "\n",
       "    .dataframe tbody tr th {\n",
       "        vertical-align: top;\n",
       "    }\n",
       "\n",
       "    .dataframe thead th {\n",
       "        text-align: right;\n",
       "    }\n",
       "</style>\n",
       "<table border=\"1\" class=\"dataframe\">\n",
       "  <thead>\n",
       "    <tr style=\"text-align: right;\">\n",
       "      <th></th>\n",
       "      <th>Close</th>\n",
       "    </tr>\n",
       "    <tr>\n",
       "      <th>Date</th>\n",
       "      <th></th>\n",
       "    </tr>\n",
       "  </thead>\n",
       "  <tbody>\n",
       "    <tr>\n",
       "      <th>2014-09-18</th>\n",
       "      <td>-0.077500</td>\n",
       "    </tr>\n",
       "    <tr>\n",
       "      <th>2014-09-19</th>\n",
       "      <td>-0.075087</td>\n",
       "    </tr>\n",
       "    <tr>\n",
       "      <th>2014-09-20</th>\n",
       "      <td>0.034502</td>\n",
       "    </tr>\n",
       "    <tr>\n",
       "      <th>2014-09-21</th>\n",
       "      <td>-0.025282</td>\n",
       "    </tr>\n",
       "    <tr>\n",
       "      <th>2014-09-22</th>\n",
       "      <td>0.008283</td>\n",
       "    </tr>\n",
       "  </tbody>\n",
       "</table>\n",
       "</div>"
      ],
      "text/plain": [
       "               Close\n",
       "Date                \n",
       "2014-09-18 -0.077500\n",
       "2014-09-19 -0.075087\n",
       "2014-09-20  0.034502\n",
       "2014-09-21 -0.025282\n",
       "2014-09-22  0.008283"
      ]
     },
     "execution_count": 11,
     "metadata": {},
     "output_type": "execute_result"
    }
   ],
   "source": [
    "def AssetReturn(Asset):\n",
    "    return (Asset.diff()/Asset[1:len(Asset)]).dropna()\n",
    "\n",
    "AssetReturn(btc).head()"
   ]
  },
  {
   "cell_type": "markdown",
   "metadata": {},
   "source": [
    "Note that the percentage returns are not normal distribution even if it seems, becouse the support of distribution is $[-1, \\infty)$"
   ]
  },
  {
   "cell_type": "code",
   "execution_count": 53,
   "metadata": {},
   "outputs": [
    {
     "data": {
      "text/plain": [
       "Text(0.5, 1.0, 'Percentage Retuns')"
      ]
     },
     "execution_count": 53,
     "metadata": {},
     "output_type": "execute_result"
    },
    {
     "data": {
      "image/png": "[encoded data removed]",
      "text/plain": [
       "<Figure size 432x288 with 1 Axes>"
      ]
     },
     "metadata": {
      "needs_background": "light"
     },
     "output_type": "display_data"
    }
   ],
   "source": [
    "plt.hist(AssetReturn(btc), bins = 100, lw=1, ec=\"black\", fc=\"blue\", alpha=0.7)\n",
    "plt.title(\"Percentage Retuns\")"
   ]
  },
  {
   "cell_type": "markdown",
   "metadata": {},
   "source": [
    "### Log Return\n",
    "\n",
    "For alliviate of non-normality problem we can calculate the log-return $r_t$:\n",
    "\n",
    "$$\n",
    "r_t = \\log \\frac{P_{t+1}}{P_t} = \\log P_{t+1} - \\log P_{t}\n",
    "$$"
   ]
  },
  {
   "cell_type": "code",
   "execution_count": 47,
   "metadata": {},
   "outputs": [
    {
     "data": {
      "text/html": [
       "<div>\n",
       "<style scoped>\n",
       "    .dataframe tbody tr th:only-of-type {\n",
       "        vertical-align: middle;\n",
       "    }\n",
       "\n",
       "    .dataframe tbody tr th {\n",
       "        vertical-align: top;\n",
       "    }\n",
       "\n",
       "    .dataframe thead th {\n",
       "        text-align: right;\n",
       "    }\n",
       "</style>\n",
       "<table border=\"1\" class=\"dataframe\">\n",
       "  <thead>\n",
       "    <tr style=\"text-align: right;\">\n",
       "      <th></th>\n",
       "      <th>Close</th>\n",
       "    </tr>\n",
       "    <tr>\n",
       "      <th>Date</th>\n",
       "      <th></th>\n",
       "    </tr>\n",
       "  </thead>\n",
       "  <tbody>\n",
       "    <tr>\n",
       "      <th>2014-09-18</th>\n",
       "      <td>-0.074643</td>\n",
       "    </tr>\n",
       "    <tr>\n",
       "      <th>2014-09-19</th>\n",
       "      <td>-0.072402</td>\n",
       "    </tr>\n",
       "    <tr>\n",
       "      <th>2014-09-20</th>\n",
       "      <td>0.035111</td>\n",
       "    </tr>\n",
       "    <tr>\n",
       "      <th>2014-09-21</th>\n",
       "      <td>-0.024968</td>\n",
       "    </tr>\n",
       "    <tr>\n",
       "      <th>2014-09-22</th>\n",
       "      <td>0.008317</td>\n",
       "    </tr>\n",
       "  </tbody>\n",
       "</table>\n",
       "</div>"
      ],
      "text/plain": [
       "               Close\n",
       "Date                \n",
       "2014-09-18 -0.074643\n",
       "2014-09-19 -0.072402\n",
       "2014-09-20  0.035111\n",
       "2014-09-21 -0.024968\n",
       "2014-09-22  0.008317"
      ]
     },
     "execution_count": 47,
     "metadata": {},
     "output_type": "execute_result"
    }
   ],
   "source": [
    "def logAssetReturn(Asset):\n",
    "    return np.log(Asset).diff().dropna()\n",
    "\n",
    "logAssetReturn(btc).head()"
   ]
  },
  {
   "cell_type": "code",
   "execution_count": 55,
   "metadata": {},
   "outputs": [
    {
     "data": {
      "text/plain": [
       "Text(0.5, 1.0, 'Log Retuns')"
      ]
     },
     "execution_count": 55,
     "metadata": {},
     "output_type": "execute_result"
    },
    {
     "data": {
      "image/png": "[encoded data removed]",
      "text/plain": [
       "<Figure size 432x288 with 1 Axes>"
      ]
     },
     "metadata": {
      "needs_background": "light"
     },
     "output_type": "display_data"
    }
   ],
   "source": [
    "plt.hist(logAssetReturn(btc), bins = 100, lw=1, ec=\"black\", fc=\"blue\", alpha=0.7)\n",
    "plt.title(\"Log Retuns\")"
   ]
  },
  {
   "cell_type": "markdown",
   "metadata": {},
   "source": [
    "### Stats and Normality\n",
    "\n",
    "$$\n",
    "\\mu = \\frac{\\sum_{i=1}^{n} X_i}{n}\n",
    "$$\n",
    "$$\n",
    "\\sigma^2 = \\frac{\\sum_{i=1}^{n} (X_i - \\mu)^2}{n}\n",
    "$$\n",
    "$$\n",
    "S = \\frac{\\frac{1}{n} \\sum_{i=1}^{n}  (X_i - \\mu)^3}{(\\frac{1}{n} \\sum_{i=1}^{n}  (X_i - \\mu)^{2})^\\frac{3}{2}}\n",
    "$$\n",
    "$$\n",
    "K = \\frac{\\frac{1}{n} \\sum_{i=1}^{n}  (X_i - \\mu)^4}{(\\frac{1}{n} \\sum_{i=1}^{n}  (X_i - \\mu)^{2})^2}\n",
    "$$\n",
    "$$\n",
    "JB = \\frac{n}{6} \\left( S^2 + \\frac{1}{4} (K-2)^2 \\right)\n",
    "$$"
   ]
  },
  {
   "cell_type": "code",
   "execution_count": 135,
   "metadata": {},
   "outputs": [
    {
     "name": "stdout",
     "output_type": "stream",
     "text": [
      "Mean: 2.193962326884659 / Std: 5.056684367589982 / Assimetry: 0.0012958080355786191 / Kurtosis: 3.1052973145560934 / Jarque-Bera: 0.46226003860771475 / JB P-value: 0.7936362712912245\n"
     ]
    }
   ],
   "source": [
    "def descibeAsset(Asset):\n",
    "    JBtest = jarque_bera(Asset)\n",
    "    print(\"Mean: {} / Std: {} / Assimetry: {} / Kurtosis: {} / Jarque-Bera: {} / JB P-value: {}\".format(np.mean(Asset), np.std(Asset), JBtest[2], JBtest[3], JBtest[0], JBtest[1]))\n",
    "\n",
    "descibeAsset(np.random.normal(2, 5, 1000))"
   ]
  },
  {
   "cell_type": "code",
   "execution_count": 134,
   "metadata": {},
   "outputs": [
    {
     "name": "stdout",
     "output_type": "stream",
     "text": [
      "Mean: 0.0009108179153313825 / Std: 0.04004729353831798 / Assimetry: -1.7018259712076416 / Kurtosis: 24.727344209905358 / Jarque-Bera: 53827.58713909739 / JB P-value: 0.0\n",
      "Mean: 0.0016901249024657132 / Std: 0.03923463069859213 / Assimetry: -0.7979029902214887 / Kurtosis: 14.25433058909096 / Jarque-Bera: 14379.61270950963 / JB P-value: 0.0\n"
     ]
    }
   ],
   "source": [
    "descibeAsset(AssetReturn(btc[\"Close\"]))\n",
    "descibeAsset(logAssetReturn(btc[\"Close\"]))"
   ]
  }
 ],
 "metadata": {
  "interpreter": {
   "hash": "6868c2c58928b2df756f83b0ee3c61f987925f733633c14067b8c2ee5ae10991"
  },
  "kernelspec": {
   "display_name": "Python 3.7.6 64-bit ('myvenv': venv)",
   "language": "python",
   "name": "python3"
  },
  "language_info": {
   "codemirror_mode": {
    "name": "ipython",
    "version": 3
   },
   "file_extension": ".py",
   "mimetype": "text/x-python",
   "name": "python",
   "nbconvert_exporter": "python",
   "pygments_lexer": "ipython3",
   "version": "3.7.6"
  },
  "orig_nbformat": 4
 },
 "nbformat": 4,
 "nbformat_minor": 2
}
